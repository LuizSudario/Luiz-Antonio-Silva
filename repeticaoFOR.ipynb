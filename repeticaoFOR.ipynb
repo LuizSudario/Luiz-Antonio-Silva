{
  "nbformat": 4,
  "nbformat_minor": 0,
  "metadata": {
    "colab": {
      "provenance": [],
      "authorship_tag": "ABX9TyMOknP8OggGeZ2C0v4qwI6S",
      "include_colab_link": true
    },
    "kernelspec": {
      "name": "python3",
      "display_name": "Python 3"
    },
    "language_info": {
      "name": "python"
    }
  },
  "cells": [
    {
      "cell_type": "markdown",
      "metadata": {
        "id": "view-in-github",
        "colab_type": "text"
      },
      "source": [
        "<a href=\"https://colab.research.google.com/github/LuizSudario/Luiz-Antonio-Silva/blob/main/repeticaoFOR.ipynb\" target=\"_parent\"><img src=\"https://colab.research.google.com/assets/colab-badge.svg\" alt=\"Open In Colab\"/></a>"
      ]
    },
    {
      "cell_type": "markdown",
      "source": [],
      "metadata": {
        "id": "cyq9MYdURHi9"
      }
    },
    {
      "cell_type": "markdown",
      "source": [
        "#LAÇO DE REPETIÇÃO \"FOR\""
      ],
      "metadata": {
        "id": "Ie2u-EA-RJMS"
      }
    },
    {
      "cell_type": "code",
      "source": [
        "#range(inicio,fim,incremento)\n",
        "for cont in range (0,20,2):\n",
        "  print(cont)"
      ],
      "metadata": {
        "id": "EY-ld4Q5RXeC"
      },
      "execution_count": null,
      "outputs": []
    },
    {
      "cell_type": "markdown",
      "source": [
        "#Segundo Exemplo"
      ],
      "metadata": {
        "id": "HJR7z91vTLMt"
      }
    },
    {
      "cell_type": "code",
      "source": [
        "for i in range (10,0,-2):\n",
        "  print(i)"
      ],
      "metadata": {
        "id": "pB9wOoHRTRJ9"
      },
      "execution_count": null,
      "outputs": []
    },
    {
      "cell_type": "markdown",
      "source": [
        "#Terceiro Exemplo"
      ],
      "metadata": {
        "id": "7JoMSNTcTqMC"
      }
    },
    {
      "cell_type": "code",
      "source": [
        "#Entrada de dados\n",
        "num=int(input(\"Digite um número para o calculo de sua tabuada\\n\"))\n",
        "print(f\"\\nCalculando a tabuada do {num}:\\n\")\n",
        "#é possível omitir o número 1 (1,11) e também deixar somente (11)\n",
        "for i in range (1,11,1):\n",
        "  print(f\"{num} x {i}={num*i}\")"
      ],
      "metadata": {
        "colab": {
          "base_uri": "https://localhost:8080/"
        },
        "id": "iQ_wgi5mWJzv",
        "outputId": "55910579-71e5-4ffb-8644-3f246e993214"
      },
      "execution_count": 17,
      "outputs": [
        {
          "output_type": "stream",
          "name": "stdout",
          "text": [
            "Digite um número para o calculo de sua tabuada\n",
            "10\n",
            "\n",
            "Calculando a tabuada do 10:\n",
            "\n",
            "10 x 1=10\n",
            "10 x 2=20\n",
            "10 x 3=30\n",
            "10 x 4=40\n",
            "10 x 5=50\n",
            "10 x 6=60\n",
            "10 x 7=70\n",
            "10 x 8=80\n",
            "10 x 9=90\n",
            "10 x 10=100\n"
          ]
        }
      ]
    },
    {
      "cell_type": "markdown",
      "source": [],
      "metadata": {
        "id": "CEeiQyEsTs8Q"
      }
    }
  ]
}