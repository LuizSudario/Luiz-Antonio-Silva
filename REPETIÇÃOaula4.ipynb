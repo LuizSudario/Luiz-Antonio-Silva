{
  "nbformat": 4,
  "nbformat_minor": 0,
  "metadata": {
    "colab": {
      "provenance": [],
      "authorship_tag": "ABX9TyPGpmk/e4lH0AV2ksYoID7m",
      "include_colab_link": true
    },
    "kernelspec": {
      "name": "python3",
      "display_name": "Python 3"
    },
    "language_info": {
      "name": "python"
    }
  },
  "cells": [
    {
      "cell_type": "markdown",
      "metadata": {
        "id": "view-in-github",
        "colab_type": "text"
      },
      "source": [
        "<a href=\"https://colab.research.google.com/github/LuizSudario/Luiz-Antonio-Silva/blob/main/REPETI%C3%87%C3%83Oaula4.ipynb\" target=\"_parent\"><img src=\"https://colab.research.google.com/assets/colab-badge.svg\" alt=\"Open In Colab\"/></a>"
      ]
    },
    {
      "cell_type": "markdown",
      "source": [
        "#AULA 4 PARTE 2 WHILE"
      ],
      "metadata": {
        "id": "agdAPL_36r6t"
      }
    },
    {
      "cell_type": "code",
      "execution_count": 6,
      "metadata": {
        "colab": {
          "base_uri": "https://localhost:8080/"
        },
        "id": "pq3zB8gw6WHK",
        "outputId": "393ef794-3d7d-4469-9a2f-4522f269d8d7"
      },
      "outputs": [
        {
          "output_type": "stream",
          "name": "stdout",
          "text": [
            "Digite um número para o calculo de sua tabuada:\n",
            "34\n",
            "34x1=34\n",
            "34x2=68\n",
            "34x3=102\n",
            "34x4=136\n",
            "34x5=170\n",
            "34x6=204\n",
            "34x7=238\n",
            "34x8=272\n",
            "34x9=306\n",
            "34x10=340\n",
            "34x11=374\n",
            "34x12=408\n"
          ]
        }
      ],
      "source": [
        "#Recebendo número do usuário:\n",
        "numero=input(\"Digite um número para o calculo de sua tabuada:\\n\")\n",
        "\n",
        "#Convertendo o número para inteiro:\n",
        "numero=int(numero)\n",
        "\n",
        "#Exibindo a tabuada do número:\n",
        "print(f\"{numero}x1={numero*1}\")\n",
        "print(f\"{numero}x2={numero*2}\")\n",
        "print(f\"{numero}x3={numero*3}\")\n",
        "print(f\"{numero}x4={numero*4}\")\n",
        "print(f\"{numero}x5={numero*5}\")\n",
        "print(f\"{numero}x6={numero*6}\")\n",
        "print(f\"{numero}x7={numero*7}\")\n",
        "print(f\"{numero}x8={numero*8}\")\n",
        "print(f\"{numero}x9={numero*9}\")\n",
        "print(f\"{numero}x10={numero*10}\")\n",
        "print(f\"{numero}x11={numero*11}\")\n",
        "print(f\"{numero}x12={numero*12}\")\n"
      ]
    },
    {
      "cell_type": "code",
      "source": [
        "#Recebendo número do usuário:\n",
        "numero=input(\"Digite um número para o calculo de sua tabuada:\\n\")\n",
        "\n",
        "#Convertendo o número para inteiro:\n",
        "numero=int(numero)\n",
        "\n",
        "#Criando a variável de controle do laço de repetição:\n",
        "contador=1\n",
        "while(contador<=10):\n",
        "  #exibindo 0 valor da tabuada:\n",
        "  print(f\"{numero}x{contador}={numero*contador}\")\n",
        "  contador=contador+1\n",
        "print(\"Fim de Programa\")"
      ],
      "metadata": {
        "colab": {
          "base_uri": "https://localhost:8080/"
        },
        "id": "Ga7auUJM9zGI",
        "outputId": "d0a1bb41-29ab-4006-f1e3-278b0c9e9b27"
      },
      "execution_count": 5,
      "outputs": [
        {
          "output_type": "stream",
          "name": "stdout",
          "text": [
            "Digite um número para o calculo de sua tabuada:\n",
            "13\n",
            "13x1=13\n",
            "13x2=26\n",
            "13x3=39\n",
            "13x4=52\n",
            "13x5=65\n",
            "13x6=78\n",
            "13x7=91\n",
            "13x8=104\n",
            "13x9=117\n",
            "13x10=130\n",
            "Fim de Programa\n"
          ]
        }
      ]
    },
    {
      "cell_type": "markdown",
      "source": [],
      "metadata": {
        "id": "t8Qxzbfw6pZI"
      }
    },
    {
      "cell_type": "markdown",
      "source": [
        "#Segundo exemplo comando while"
      ],
      "metadata": {
        "id": "mTk4qUbFBK90"
      }
    },
    {
      "cell_type": "code",
      "source": [
        "#recebendo idade dos usuários:\n",
        "id1=input(\"Digite a primeira idade:\\n\")\n",
        "id2=input(\"Digite a segunda idade:\\n\")\n",
        "id3=input(\"Digite a terceira idade:\\n\")\n",
        "id4=input(\"Digite a quarta idade:\\n\")\n",
        "id5=input(\"Digite a quinta idade:\\n\")\n",
        "#convertendo o número para inteiro:\n",
        "id1=int(id1)\n",
        "id2=int(id2)\n",
        "id3=int(id3)\n",
        "id4=int(id4)\n",
        "id5=int(id5)\n",
        "#calculando a media:\n",
        "media=(id1+id2+id3+id4+id5)/5\n",
        "#exibindo a media das idades:\n",
        "print(f\"A média das idades é igual à\\n{media}\")"
      ],
      "metadata": {
        "id": "HGtFRrraBStl"
      },
      "execution_count": null,
      "outputs": []
    },
    {
      "cell_type": "markdown",
      "source": [
        "#COM O USO DO WHILE"
      ],
      "metadata": {
        "id": "M-_DMfJOFXt3"
      }
    },
    {
      "cell_type": "code",
      "source": [
        "#Criando a variavel de controle do laçõ, contando 5 repetições\n",
        "contador=1\n",
        "#Criando uma variavel para acumular os valores das idades digitadas\n",
        "soma=0\n",
        "#Criando o laço de repetição para receber 5 idades e somá-las\n",
        "while(contador<=5):\n",
        "  #recebendo a idade dos usuarios:\n",
        "  idade=int(input(f\"Digite a idade do usuário nº {contador}: \"))\n",
        "  #somando a idade do usuario no valor atual da variável acumulador\n",
        "  soma=soma + idade\n",
        "  #incrementando a variavel contador para controle de laço\n",
        "  contador=contador+1\n",
        "#Calculando a media das idades:\n",
        "media=soma/(contador-1)\n",
        "print(f\"A media das idades digitadas é igual : {media}\")\n"
      ],
      "metadata": {
        "id": "hSjQM-sNFp5q"
      },
      "execution_count": null,
      "outputs": []
    },
    {
      "cell_type": "code",
      "source": [],
      "metadata": {
        "id": "LMpdVP-BFsxH"
      },
      "execution_count": null,
      "outputs": []
    }
  ]
}